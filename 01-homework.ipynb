{
 "cells": [
  {
   "cell_type": "code",
   "execution_count": 1,
   "metadata": {},
   "outputs": [],
   "source": [
    "%matplotlib inline\n",
    "import numpy as np\n",
    "import pandas as pd\n",
    "import matplotlib.pyplot as plt"
   ]
  },
  {
   "cell_type": "markdown",
   "metadata": {},
   "source": [
    "# 1. Python"
   ]
  },
  {
   "cell_type": "markdown",
   "metadata": {},
   "source": [
    "**Task 1** (0.5 points)<br/> \n",
    "Enter numbers `a`,  `d` и `N`. Find sum of the first `N` members of arithmetic progression with the first member `a` and difference `d`, without using formula for the sum."
   ]
  },
  {
   "cell_type": "code",
   "execution_count": 2,
   "metadata": {},
   "outputs": [],
   "source": [
    "## Your code here"
   ]
  },
  {
   "cell_type": "markdown",
   "metadata": {},
   "source": [
    "**Task 2** (0.5 points) <br/> \n",
    "Enter a number `N`. Find sum of the first `N` memebers of harmonic series."
   ]
  },
  {
   "cell_type": "code",
   "execution_count": 3,
   "metadata": {},
   "outputs": [],
   "source": [
    "## Your code here"
   ]
  },
  {
   "cell_type": "markdown",
   "metadata": {},
   "source": [
    "**Task 3** (0.5 points) <br/> \n",
    "Enter an integer number `N`. Check if it is a prime number."
   ]
  },
  {
   "cell_type": "code",
   "execution_count": 4,
   "metadata": {},
   "outputs": [],
   "source": [
    "## Your code here"
   ]
  },
  {
   "cell_type": "markdown",
   "metadata": {},
   "source": [
    "**Task 4** (0.5 points) <br/> \n",
    "Enter the first `N` prime numbers."
   ]
  },
  {
   "cell_type": "code",
   "execution_count": 5,
   "metadata": {},
   "outputs": [],
   "source": [
    "## Your code here"
   ]
  },
  {
   "cell_type": "markdown",
   "metadata": {},
   "source": [
    "**Task 5** (0.5 points) <br/> \n",
    "There are numbers: `a`, `b`, `c`. Without using functions `min`, `max` and other functions, find the maximum number."
   ]
  },
  {
   "cell_type": "code",
   "execution_count": 6,
   "metadata": {},
   "outputs": [],
   "source": [
    "## Your code here"
   ]
  },
  {
   "cell_type": "markdown",
   "metadata": {},
   "source": [
    "# 2. Numpy"
   ]
  },
  {
   "cell_type": "markdown",
   "metadata": {},
   "source": [
    "**Task 1** (0.5 points) <br/>\n",
    "Create two random arrays $a$ and $b$ with the same length. \n",
    "\n",
    "Calculate the following distances between the arrays:\n",
    "\n",
    "* Euclidean Distance\n",
    "$$ d(a, b) = \\sqrt{\\sum_i (a_i - b_i)^2} $$\n",
    "* Manhattan Distance\n",
    "$$ d(a, b) = \\sum_i |a_i - b_i| $$\n",
    "* Cosine Distance\n",
    "$$ d(a, b) = 1 - \\frac{a^\\top b}{||a||_2\\cdot||b||_2}$$\n"
   ]
  },
  {
   "cell_type": "code",
   "execution_count": 7,
   "metadata": {},
   "outputs": [],
   "source": [
    "## Your code here"
   ]
  },
  {
   "cell_type": "markdown",
   "metadata": {},
   "source": [
    "**Task 2** (0.5 points) <br/>\n",
    "Create a random array (`np.random.rand()`) with length of 10 and with sum of its elements equals to 2."
   ]
  },
  {
   "cell_type": "code",
   "execution_count": 8,
   "metadata": {},
   "outputs": [],
   "source": [
    "## Your code here"
   ]
  },
  {
   "cell_type": "markdown",
   "metadata": {},
   "source": [
    "**Task 3** (0.5 points) <br/>\n",
    "Create a random array (`np.random.rand()`) with length of 100. Transform the array so, that \n",
    "* Maximum element(s) value is 1\n",
    "* Minimum element(s) value is 0\n",
    "* Other values are in interval 0-1 with keeping the order"
   ]
  },
  {
   "cell_type": "code",
   "execution_count": 9,
   "metadata": {},
   "outputs": [],
   "source": [
    "## Your code here"
   ]
  },
  {
   "cell_type": "markdown",
   "metadata": {},
   "source": [
    "**Task 4** (0.5 points) <br/>\n",
    "Create a random array with length of 20 with integers from [0,50]. Select elements that are smaller than 5th percentile and larger than 95th percentile"
   ]
  },
  {
   "cell_type": "code",
   "execution_count": 10,
   "metadata": {},
   "outputs": [],
   "source": [
    "## Your code here"
   ]
  },
  {
   "cell_type": "markdown",
   "metadata": {},
   "source": [
    "**Task 5** (0.5 points) <br/>\n",
    "Create an array with shape of $5 \\times 6$ with integer from [0,50]. Print a column that contains the maximum element of the array."
   ]
  },
  {
   "cell_type": "code",
   "execution_count": 11,
   "metadata": {},
   "outputs": [],
   "source": [
    "## Your code here"
   ]
  },
  {
   "cell_type": "markdown",
   "metadata": {},
   "source": [
    "**Task 6** (0.5 points) <br/>\n",
    "\n",
    "Replace all missing values in the following array with mean."
   ]
  },
  {
   "cell_type": "code",
   "execution_count": 12,
   "metadata": {},
   "outputs": [
    {
     "data": {
      "text/plain": [
       "array([0.70152556, 0.68410625, 0.69783286,        nan, 0.8399675 ,\n",
       "              nan, 0.90595938, 0.07844711, 0.36840732, 0.36253061])"
      ]
     },
     "execution_count": 12,
     "metadata": {},
     "output_type": "execute_result"
    }
   ],
   "source": [
    "arr = np.random.rand(10)\n",
    "idx = np.random.randint(0, 10, 4)\n",
    "arr[idx] = np.nan\n",
    "arr"
   ]
  },
  {
   "cell_type": "code",
   "execution_count": 13,
   "metadata": {},
   "outputs": [],
   "source": [
    "## Your code here"
   ]
  },
  {
   "cell_type": "markdown",
   "metadata": {},
   "source": [
    "### Linear Regression"
   ]
  },
  {
   "cell_type": "markdown",
   "metadata": {},
   "source": [
    "Download [file 1](https://www.dropbox.com/s/kg9px9v3xfysak9/tutorial_dataset.csv?dl=0) and [file 2](https://www.dropbox.com/s/f87gm612o144emx/tutorial_dataset_2.csv?dl=0) into a directory with this notebook. Using function `loadtxt` in `numpy` load data from the first file. Assign y = D[:,0] аnd X = D[:, 1:].\n",
    "\n",
    "\n",
    "We will use one magic formula to find linear regression coefficients. You will prove this formula on your next lectures of the course.\n",
    "\n",
    "Linear regression model in matrix form looks like: $\\hat{y} = X\\hat{\\beta}$, where\n",
    "\n",
    "$$ \\hat{\\beta} = (X^\\top X)^{-1} X^\\top y $$\n",
    "Model residuals are calculated as\n",
    "$$ \\text{res} = y - \\hat{y} $$\n",
    "\n",
    "\n",
    "**Task 7** (2.5 points)<br/>\n",
    "1. Load the data\n",
    "2. Find parameters $\\hat{\\beta}$ using the formula above\n",
    "3. Make a plot with the model residuals on Y axis and $\\hat{y}$ on X axis"
   ]
  },
  {
   "cell_type": "code",
   "execution_count": 14,
   "metadata": {},
   "outputs": [],
   "source": [
    "## load data\n",
    "D = np.loadtxt('tutorial_dataset.csv', \n",
    "               skiprows=1, \n",
    "               delimiter=',')\n",
    "\n",
    "## Your code here"
   ]
  },
  {
   "cell_type": "markdown",
   "metadata": {},
   "source": [
    "# 3. Pandas"
   ]
  },
  {
   "cell_type": "markdown",
   "metadata": {},
   "source": [
    "### Wine Quality"
   ]
  },
  {
   "cell_type": "markdown",
   "metadata": {},
   "source": [
    "Download [sample](https://archive.ics.uci.edu/ml/machine-learning-databases/wine-quality/winequality-red.csv) with information about wine characteristics and its quality."
   ]
  },
  {
   "cell_type": "code",
   "execution_count": 15,
   "metadata": {},
   "outputs": [],
   "source": [
    "## Your code here"
   ]
  },
  {
   "cell_type": "markdown",
   "metadata": {},
   "source": [
    "**Task 1 ** (1 point) <br/>\n",
    "* How much objects are in the sample?\n",
    "* What features describe the objects? How much these features?\n",
    "* What is feature a target variable?\n",
    "* What are their ranges?\n",
    "* Are there any missing values?"
   ]
  },
  {
   "cell_type": "code",
   "execution_count": 16,
   "metadata": {},
   "outputs": [],
   "source": [
    "## Your code and answers here"
   ]
  },
  {
   "cell_type": "markdown",
   "metadata": {},
   "source": [
    "**Task 2** (1 point)<br/>\n",
    "What features affect the target variable the most?"
   ]
  },
  {
   "cell_type": "code",
   "execution_count": 17,
   "metadata": {},
   "outputs": [],
   "source": [
    "## Your code here"
   ]
  }
 ],
 "metadata": {
  "kernelspec": {
   "display_name": "Python 3",
   "language": "python",
   "name": "python3"
  },
  "language_info": {
   "codemirror_mode": {
    "name": "ipython",
    "version": 3
   },
   "file_extension": ".py",
   "mimetype": "text/x-python",
   "name": "python",
   "nbconvert_exporter": "python",
   "pygments_lexer": "ipython3",
   "version": "3.6.0"
  }
 },
 "nbformat": 4,
 "nbformat_minor": 2
}
